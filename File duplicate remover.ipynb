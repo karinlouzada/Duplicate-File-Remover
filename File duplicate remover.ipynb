{
 "cells": [
  {
   "cell_type": "code",
   "execution_count": 25,
   "metadata": {},
   "outputs": [],
   "source": [
    "from datetime import datetime\n",
    "import re\n",
    "from os import scandir, remove, stat\n",
    "\n",
    "\n",
    "def convert_date(timestamp):\n",
    "    \"This function converts the time stamp to something like 01 Jan 2001 12:01.\"\n",
    "    d = datetime.utcfromtimestamp(timestamp)\n",
    "    formated_date = d.strftime('%d %b %Y %H:%M')\n",
    "    return formated_date\n",
    "\n",
    "\n",
    "# collect the files in a set\n",
    "def get_files(path):\n",
    "    \"This function generates a set of strings representing the files in the folder (name and date of last modification).\"\n",
    "    set_files = set()\n",
    "    set_filenames = set()\n",
    "    dir_entries = scandir(path)\n",
    "    for entry in dir_entries:\n",
    "        if entry.is_file():\n",
    "            info = entry.stat()\n",
    "            e = f'{entry.name} {convert_date(info.st_mtime)}'\n",
    "#             print(f'{entry.name}\\t Last Modified: {convert_date(info.st_mtime)}')\n",
    "            set_files.add(e)\n",
    "            set_filenames.add(entry.name)\n",
    "    return set_files, set_filenames\n",
    "\n",
    "\n",
    "# are you sure you want to delete?\n",
    "def del_func(filepath):\n",
    "    \"This function deletes a file from a folder but checks with you first.\"\n",
    "    answer = input(f'Are you sure you want to delete {filepath}? (Y or N):  ')\n",
    "    if answer == 'Y':\n",
    "        os.remove(filepath)\n",
    "        print('File deleted')              "
   ]
  },
  {
   "cell_type": "code",
   "execution_count": null,
   "metadata": {},
   "outputs": [
    {
     "name": "stdout",
     "output_type": "stream",
     "text": [
      "The folders to be compared have to be sub(sub)directories of /Users/martinesteves/Pictures/.\n",
      "Enter the full path to folder1: /Users/martinesteves/Pictures/\n",
      "Enter the full path to folder2: /Users/martinesteves/Pictures/\n",
      "The directory has to be in /Users/martinesteves/Pictures/. You also can\"t compare the same file to itself. Please enter a new path to the directory\n",
      "Enter the full path to folder2: /Users/martinesteves/Pictures/d'\n",
      "Filepath does not exist, try again\n",
      "Enter the full path to folder2: /Users/martinesteves/\n",
      "The directory has to be in /Users/martinesteves/Pictures/. You also can\"t compare the same file to itself. Please enter a new path to the directory\n"
     ]
    }
   ],
   "source": [
    "# This program scans two folders and compares the files in them and then asks if you want to delete the exact duplicates.\n",
    "\n",
    "# For security's sake, folders to be compared can only be allowed to be in a certain Path. Don't want you deleting OS necessary files... \n",
    "Path = '/Users/martinesteves/Pictures/'\n",
    "print(f'The folders to be compared have to be sub(sub)directories of {Path}.')\n",
    "\n",
    "# Input the folders for comparison.\n",
    "# Duplicates will eventually be removed from the first folder.\n",
    "paths = [f'{Path}',f'{Path}/MJE photos Jen G']\n",
    "paths = ['','']\n",
    "for i in [0,1]:\n",
    "    while True:\n",
    "        try:\n",
    "            paths[i] = input(f'Enter the full path to folder{i+1}: ')\n",
    "# Check if path exists, that the folder exists in the path allowed, and that the directories are different.\n",
    "            if bool(stat(paths[i])) == True and Path in paths[i] and paths[1] != paths[0]:\n",
    "                break\n",
    "            else: \n",
    "                print(f'The folder has to be {Path} or be located in this directory. You also can/t compare the same file to itself. Please enter a new path to the directory')\n",
    "# Error Handling\n",
    "        except FileNotFoundError as err:\n",
    "            print('Filepath does not exist, try again')\n",
    "        \n",
    "        \n",
    "# Call the function to retrieve the filenames and dates of modification in a set for each folder.\n",
    "set1, set_filenames1 = get_files(paths[0])\n",
    "set2, set_filenames2 = get_files(paths[1])\n",
    "\n",
    "# Extract a set of duplicates by comparing the two sets\n",
    "doubles_set = set1.intersection(set2)\n",
    "\n",
    "# Remove duplicates from the first folder\n",
    "if len(doubles_set) == 0:\n",
    "    print('There are no doubles.')\n",
    "for file in doubles_set:\n",
    "    filename = re.search('^[a-zA-Z\\d_ -.]*\\.[a-zA-Z\\d]*', file)\n",
    "    del_func(f'{path1}/{filename.group(0)}')"
   ]
  },
  {
   "cell_type": "code",
   "execution_count": null,
   "metadata": {},
   "outputs": [],
   "source": []
  },
  {
   "cell_type": "code",
   "execution_count": null,
   "metadata": {},
   "outputs": [],
   "source": []
  }
 ],
 "metadata": {
  "kernelspec": {
   "display_name": "herzog-2SBD1oNo",
   "language": "python",
   "name": "herzog-2sbd1ono"
  },
  "language_info": {
   "codemirror_mode": {
    "name": "ipython",
    "version": 3
   },
   "file_extension": ".py",
   "mimetype": "text/x-python",
   "name": "python",
   "nbconvert_exporter": "python",
   "pygments_lexer": "ipython3",
   "version": "3.8.3"
  }
 },
 "nbformat": 4,
 "nbformat_minor": 4
}
